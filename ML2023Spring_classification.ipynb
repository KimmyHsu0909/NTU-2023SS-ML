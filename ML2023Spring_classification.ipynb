{
  "cells": [
    {
      "cell_type": "markdown",
      "metadata": {
        "id": "OYlaRwNu7ojq"
      },
      "source": [
        "# **Homework 2: Phoneme Classification**\n"
      ]
    },
    {
      "cell_type": "markdown",
      "source": [
        "Objectives:\n",
        "* Solve a classification problem with deep neural networks (DNNs).\n",
        "* Understand recursive neural networks (RNNs).\n",
        "\n",
        "If you have any questions, please contact the TAs via TA hours, NTU COOL, or email to mlta-2023-spring@googlegroups.com"
      ],
      "metadata": {
        "id": "A7DRC5V7_8A5"
      }
    },
    {
      "cell_type": "markdown",
      "metadata": {
        "id": "KVUGfWTo7_Oj"
      },
      "source": [
        "# Download Data\n",
        "Download data from google drive, then unzip it.\n",
        "\n",
        "You should have\n",
        "- `libriphone/train_split.txt`: training metadata\n",
        "- `libriphone/train_labels`: training labels\n",
        "- `libriphone/test_split.txt`: testing metadata\n",
        "- `libriphone/feat/train/*.pt`: training feature\n",
        "- `libriphone/feat/test/*.pt`:  testing feature\n",
        "\n",
        "after running the following block.\n",
        "\n",
        "> **Notes: if the google drive link is dead, you can download the data directly from [Kaggle](https://www.kaggle.com/c/ml2023spring-hw2/data) and upload it to the workspace.**\n"
      ]
    },
    {
      "cell_type": "code",
      "execution_count": 3,
      "metadata": {
        "id": "OzkiMEcC3Foq",
        "outputId": "c53bbaa1-cbb3-413c-85a5-b4f5ac114160",
        "colab": {
          "base_uri": "https://localhost:8080/"
        }
      },
      "outputs": [
        {
          "output_type": "stream",
          "name": "stdout",
          "text": [
            "Requirement already satisfied: gdown in /usr/local/lib/python3.12/dist-packages (5.2.0)\n",
            "Requirement already satisfied: beautifulsoup4 in /usr/local/lib/python3.12/dist-packages (from gdown) (4.13.5)\n",
            "Requirement already satisfied: filelock in /usr/local/lib/python3.12/dist-packages (from gdown) (3.19.1)\n",
            "Requirement already satisfied: requests[socks] in /usr/local/lib/python3.12/dist-packages (from gdown) (2.32.4)\n",
            "Requirement already satisfied: tqdm in /usr/local/lib/python3.12/dist-packages (from gdown) (4.67.1)\n",
            "Requirement already satisfied: soupsieve>1.2 in /usr/local/lib/python3.12/dist-packages (from beautifulsoup4->gdown) (2.8)\n",
            "Requirement already satisfied: typing-extensions>=4.0.0 in /usr/local/lib/python3.12/dist-packages (from beautifulsoup4->gdown) (4.15.0)\n",
            "Requirement already satisfied: charset_normalizer<4,>=2 in /usr/local/lib/python3.12/dist-packages (from requests[socks]->gdown) (3.4.3)\n",
            "Requirement already satisfied: idna<4,>=2.5 in /usr/local/lib/python3.12/dist-packages (from requests[socks]->gdown) (3.10)\n",
            "Requirement already satisfied: urllib3<3,>=1.21.1 in /usr/local/lib/python3.12/dist-packages (from requests[socks]->gdown) (2.5.0)\n",
            "Requirement already satisfied: certifi>=2017.4.17 in /usr/local/lib/python3.12/dist-packages (from requests[socks]->gdown) (2025.8.3)\n",
            "Requirement already satisfied: PySocks!=1.5.7,>=1.5.6 in /usr/local/lib/python3.12/dist-packages (from requests[socks]->gdown) (1.7.1)\n",
            "/usr/local/lib/python3.12/dist-packages/gdown/__main__.py:140: FutureWarning: Option `--id` was deprecated in version 4.3.1 and will be removed in 5.0. You don't need to pass it anymore to use a file ID.\n",
            "  warnings.warn(\n",
            "Downloading...\n",
            "From (original): https://drive.google.com/uc?id=1qzCRnywKh30mTbWUEjXuNT2isOCAPdO1\n",
            "From (redirected): https://drive.google.com/uc?id=1qzCRnywKh30mTbWUEjXuNT2isOCAPdO1&confirm=t&uuid=299930f2-5d26-4cf9-81db-0274320eb2d5\n",
            "To: /content/libriphone.zip\n",
            "100% 384M/384M [00:01<00:00, 303MB/s]\n",
            "replace libriphone/feat/test/103-1240-0006.pt? [y]es, [n]o, [A]ll, [N]one, [r]ename: feat  test_split.txt  train_labels.txt\ttrain_split.txt\n"
          ]
        }
      ],
      "source": [
        "!pip install --upgrade gdown\n",
        "\n",
        "# Main link\n",
        "# !gdown --id '1N1eVIDe9hKM5uiNRGmifBlwSDGiVXPJe' --output libriphone.zip\n",
        "!gdown --id '1qzCRnywKh30mTbWUEjXuNT2isOCAPdO1' --output libriphone.zip\n",
        "\n",
        "!unzip -q libriphone.zip\n",
        "!ls libriphone"
      ]
    },
    {
      "cell_type": "markdown",
      "source": [
        "# Some Utility Functions\n",
        "**Fixes random number generator seeds for reproducibility.**"
      ],
      "metadata": {
        "id": "pADUiYODJE1O"
      }
    },
    {
      "cell_type": "code",
      "source": [
        "import numpy as np\n",
        "import torch\n",
        "import random\n",
        "\n",
        "def same_seeds(seed):\n",
        "    random.seed(seed)\n",
        "    np.random.seed(seed)\n",
        "    torch.manual_seed(seed)\n",
        "    if torch.cuda.is_available():\n",
        "        torch.cuda.manual_seed(seed)\n",
        "        torch.cuda.manual_seed_all(seed)\n",
        "    torch.backends.cudnn.benchmark = False\n",
        "    torch.backends.cudnn.deterministic = True"
      ],
      "metadata": {
        "id": "BsZKgBZQJjaE"
      },
      "execution_count": 4,
      "outputs": []
    },
    {
      "cell_type": "markdown",
      "metadata": {
        "id": "_L_4anls8Drv"
      },
      "source": [
        "**Helper functions to pre-process the training data from raw MFCC features of each utterance.**\n",
        "\n",
        "A phoneme may span several frames and is dependent to past and future frames. \\\n",
        "Hence we concatenate neighboring phonemes for training to achieve higher accuracy. The **concat_feat** function concatenates past and future k frames (total 2k+1 = n frames), and we predict the center frame.\n",
        "\n",
        "Feel free to modify the data preprocess functions, but **do not drop any frame** (if you modify the functions, remember to check that the number of frames are the same as mentioned in the slides)"
      ]
    },
    {
      "cell_type": "code",
      "execution_count": 5,
      "metadata": {
        "id": "IJjLT8em-y9G"
      },
      "outputs": [],
      "source": [
        "\n",
        "'''预处理音频 拼接前后帧'''\n",
        "import os\n",
        "import torch\n",
        "from tqdm import tqdm\n",
        "\n",
        "def load_feat(path):# 从指定路径加载保存好的特征（MFCC），返回一个 torch.Tensor\n",
        "    feat = torch.load(path)\n",
        "    return feat\n",
        "\n",
        "def shift(x, n):# 作用：将序列整体向左/右平移，用边界帧进行补齐\n",
        "    if n < 0:\n",
        "        left = x[0].repeat(-n, 1) # 用第一帧补齐前面的空缺\n",
        "        right = x[:n] # 去掉最后几帧\n",
        "    elif n > 0:\n",
        "        right = x[-1].repeat(n, 1) # 用第一帧补齐前面的空缺\n",
        "        left = x[n:] # 去掉前面几帧\n",
        "    else:\n",
        "        return x\n",
        "\n",
        "    return torch.cat((left, right), dim=0)\n",
        "\n",
        "def concat_feat(x, concat_n):\n",
        "    assert concat_n % 2 == 1 # n must be odd 需要对称\n",
        "    if concat_n < 2:\n",
        "        return x\n",
        "    seq_len, feature_dim = x.size(0), x.size(1)\n",
        "    x = x.repeat(1, concat_n)\n",
        "    x = x.view(seq_len, concat_n, feature_dim).permute(1, 0, 2) # concat_n, seq_len, feature_dim\n",
        "    mid = (concat_n // 2)\n",
        "    for r_idx in range(1, mid+1):\n",
        "        x[mid + r_idx, :] = shift(x[mid + r_idx], r_idx) # 后 r_idx 帧\n",
        "        x[mid - r_idx, :] = shift(x[mid - r_idx], -r_idx) # 前 r_idx 帧\n",
        "\n",
        "    return x.permute(1, 0, 2).view(seq_len, concat_n * feature_dim)\n",
        "\n",
        "def preprocess_data(split, feat_dir, phone_path, concat_nframes, train_ratio=0.8, random_seed=1213):\n",
        "    class_num = 41 # NOTE: pre-computed, should not need change\n",
        "\n",
        "    if split == 'train' or split == 'val':\n",
        "        mode = 'train'\n",
        "    elif split == 'test':\n",
        "        mode = 'test'\n",
        "    else:\n",
        "        raise ValueError('Invalid \\'split\\' argument for dataset: PhoneDataset!')\n",
        "\n",
        "    label_dict = {}\n",
        "    if mode == 'train':\n",
        "        for line in open(os.path.join(phone_path, f'{mode}_labels.txt')).readlines():\n",
        "            line = line.strip('\\n').split(' ')\n",
        "            label_dict[line[0]] = [int(p) for p in line[1:]]\n",
        "\n",
        "        # split training and validation data\n",
        "        usage_list = open(os.path.join(phone_path, 'train_split.txt')).readlines()\n",
        "        random.seed(random_seed)\n",
        "        random.shuffle(usage_list)\n",
        "        train_len = int(len(usage_list) * train_ratio)\n",
        "        usage_list = usage_list[:train_len] if split == 'train' else usage_list[train_len:]\n",
        "\n",
        "    elif mode == 'test':\n",
        "        usage_list = open(os.path.join(phone_path, 'test_split.txt')).readlines()\n",
        "\n",
        "    usage_list = [line.strip('\\n') for line in usage_list]\n",
        "    print('[Dataset] - # phone classes: ' + str(class_num) + ', number of utterances for ' + split + ': ' + str(len(usage_list)))\n",
        "\n",
        "    max_len = 3000000\n",
        "    X = torch.empty(max_len, 39 * concat_nframes)\n",
        "    if mode == 'train':\n",
        "        y = torch.empty(max_len, dtype=torch.long)\n",
        "\n",
        "    idx = 0\n",
        "    for i, fname in tqdm(enumerate(usage_list)):\n",
        "        feat = load_feat(os.path.join(feat_dir, mode, f'{fname}.pt'))\n",
        "        cur_len = len(feat)\n",
        "        feat = concat_feat(feat, concat_nframes)\n",
        "        if mode == 'train':\n",
        "          label = torch.LongTensor(label_dict[fname])\n",
        "\n",
        "        X[idx: idx + cur_len, :] = feat\n",
        "        if mode == 'train':\n",
        "          y[idx: idx + cur_len] = label\n",
        "\n",
        "        idx += cur_len\n",
        "\n",
        "    X = X[:idx, :]\n",
        "    if mode == 'train':\n",
        "      y = y[:idx]\n",
        "\n",
        "    print(f'[INFO] {split} set')\n",
        "    print(X.shape)\n",
        "    if mode == 'train':\n",
        "      print(y.shape)\n",
        "      return X, y\n",
        "    else:\n",
        "      return X\n"
      ]
    },
    {
      "cell_type": "markdown",
      "metadata": {
        "id": "us5XW_x6udZQ"
      },
      "source": [
        "# Dataset"
      ]
    },
    {
      "cell_type": "code",
      "execution_count": 6,
      "metadata": {
        "id": "Fjf5EcmJtf4e"
      },
      "outputs": [],
      "source": [
        "import torch\n",
        "from torch.utils.data import Dataset\n",
        "\n",
        "class LibriDataset(Dataset):\n",
        "    def __init__(self, X, y=None):\n",
        "        self.data = X\n",
        "        if y is not None:\n",
        "            self.label = torch.LongTensor(y)\n",
        "        else:\n",
        "            self.label = None\n",
        "\n",
        "    def __getitem__(self, idx):\n",
        "        if self.label is not None:\n",
        "            return self.data[idx], self.label[idx]\n",
        "        else:\n",
        "            return self.data[idx]\n",
        "\n",
        "    def __len__(self):\n",
        "        return len(self.data)\n"
      ]
    },
    {
      "cell_type": "markdown",
      "metadata": {
        "id": "IRqKNvNZwe3V"
      },
      "source": [
        "# Model\n",
        "Feel free to modify the structure of the model."
      ]
    },
    {
      "cell_type": "code",
      "execution_count": 7,
      "metadata": {
        "id": "Bg-GRd7ywdrL"
      },
      "outputs": [],
      "source": [
        "import torch.nn as nn\n",
        "\n",
        "'''定义一个基本网络块（类似于积木）'''\n",
        "class BasicBlock(nn.Module):\n",
        "    def __init__(self, input_dim, output_dim):\n",
        "        super(BasicBlock, self).__init__()\n",
        "\n",
        "        # TODO: apply batch normalization and dropout for strong baseline.\n",
        "        # Reference: https://pytorch.org/docs/stable/generated/torch.nn.BatchNorm1d.html (batch normalization)\n",
        "        #       https://pytorch.org/docs/stable/generated/torch.nn.Dropout.html (dropout)\n",
        "        self.block = nn.Sequential(\n",
        "            nn.Linear(input_dim, output_dim),\n",
        "            nn.BatchNorm1d(1024),\n",
        "            nn.ReLU(),\n",
        "            nn.Dropout(0.4) # 0.3 - 0.5 较常见。如果模型过拟合，可以调大到 0.5 如果模型欠拟合，可以调小到 0.2\n",
        "        )\n",
        "\n",
        "    def forward(self, x):\n",
        "        x = self.block(x)\n",
        "        return x\n",
        "\n",
        "'''定义分类器'''\n",
        "class Classifier(nn.Module):\n",
        "    def __init__(self, input_dim, output_dim=41, hidden_layers=3, hidden_dim=256):\n",
        "        super(Classifier, self).__init__()\n",
        "\n",
        "        self.fc = nn.Sequential( # 用 顺序容器 nn.Sequential 堆叠整个网络\n",
        "            BasicBlock(input_dim, hidden_dim), # 第一层：BasicBlock(input_dim → hidden_dim)\n",
        "            *[BasicBlock(hidden_dim, hidden_dim) for _ in range(hidden_layers)], # 中间层：hidden_layers 个 BasicBlock(hidden_dim → hidden_dim)\n",
        "            # 注意 *[ ... ] 的写法会把列表展开，比如 [a, b, c] 展开后就是 a, b, c\n",
        "            nn.Linear(hidden_dim, output_dim)\n",
        "        )\n",
        "\n",
        "    def forward(self, x):\n",
        "        x = self.fc(x)\n",
        "        return x"
      ]
    },
    {
      "cell_type": "markdown",
      "source": [
        "# Hyper-parameters"
      ],
      "metadata": {
        "id": "TlIq8JeqvvHC"
      }
    },
    {
      "cell_type": "code",
      "source": [
        "# data prarameters\n",
        "# TODO: change the value of \"concat_nframes\" for medium baseline\n",
        "\n",
        "'''越大，输入维度越高（信息更丰富），但计算量和过拟合风险也会增加。\n",
        "小基线：concat_nframes = 3\n",
        "中基线：concat_nframes = 5 或 7\n",
        "大基线：concat_nframes = 11'''\n",
        "\n",
        "concat_nframes = 11   # the number of frames to concat with, n must be odd (total 2k+1 = n frames)\n",
        "train_ratio = 0.75   # the ratio of data used for training, the rest will be used for validation\n",
        "\n",
        "# training parameters\n",
        "seed = 1010101          # random seed\n",
        "batch_size = 512        # batch size\n",
        "num_epoch = 1000         # the number of training epoch\n",
        "learning_rate = 1e-3      # learning rate\n",
        "model_path = './model.ckpt'  # the path where the checkpoint will be saved\n",
        "\n",
        "# model parameters\n",
        "# TODO: change the value of \"hidden_layers\" or \"hidden_dim\" for medium baseline\n",
        "input_dim = 39 * concat_nframes  # the input dim of the model, you should not change the value\n",
        "hidden_layers = 4          # the number of hidden layers\n",
        "hidden_dim = 1024           # the hidden dim\n",
        "\n",
        "'''每个隐藏层的神经元数量。\n",
        "越大模型越强，但过拟合风险更高。\n",
        "小基线：64\n",
        "中基线：128 / 256\n",
        "大基线：512'''\n"
      ],
      "metadata": {
        "id": "iIHn79Iav1ri",
        "outputId": "24afc329-e1ea-4b30-e566-b3bc00c04eaa",
        "colab": {
          "base_uri": "https://localhost:8080/",
          "height": 35
        }
      },
      "execution_count": 8,
      "outputs": [
        {
          "output_type": "execute_result",
          "data": {
            "text/plain": [
              "'每个隐藏层的神经元数量。\\n越大模型越强，但过拟合风险更高。\\n小基线：64\\n中基线：128 / 256\\n大基线：512'"
            ],
            "application/vnd.google.colaboratory.intrinsic+json": {
              "type": "string"
            }
          },
          "metadata": {},
          "execution_count": 8
        }
      ]
    },
    {
      "cell_type": "markdown",
      "source": [
        "# Dataloader"
      ],
      "metadata": {
        "id": "IIUFRgG5yoDn"
      }
    },
    {
      "cell_type": "code",
      "source": [
        "from torch.utils.data import DataLoader\n",
        "import gc\n",
        "\n",
        "same_seeds(seed)\n",
        "device = 'cuda' if torch.cuda.is_available() else 'cpu'\n",
        "print(f'DEVICE: {device}')\n",
        "\n",
        "# preprocess data\n",
        "train_X, train_y = preprocess_data(split='train', feat_dir='./libriphone/feat', phone_path='./libriphone', concat_nframes=concat_nframes, train_ratio=train_ratio, random_seed=seed)\n",
        "val_X, val_y = preprocess_data(split='val', feat_dir='./libriphone/feat', phone_path='./libriphone', concat_nframes=concat_nframes, train_ratio=train_ratio, random_seed=seed)\n",
        "\n",
        "# get dataset\n",
        "train_set = LibriDataset(train_X, train_y)\n",
        "val_set = LibriDataset(val_X, val_y)\n",
        "\n",
        "# remove raw feature to save memory\n",
        "del train_X, train_y, val_X, val_y\n",
        "gc.collect()\n",
        "\n",
        "# get dataloader\n",
        "train_loader = DataLoader(train_set, batch_size=batch_size, shuffle=True)\n",
        "val_loader = DataLoader(val_set, batch_size=batch_size, shuffle=False)"
      ],
      "metadata": {
        "id": "c1zI3v5jyrDn",
        "outputId": "08c342b6-3ca4-4f8a-a7af-62ecdfe5ab5f",
        "colab": {
          "base_uri": "https://localhost:8080/"
        }
      },
      "execution_count": 9,
      "outputs": [
        {
          "output_type": "stream",
          "name": "stdout",
          "text": [
            "DEVICE: cuda\n",
            "[Dataset] - # phone classes: 41, number of utterances for train: 2571\n"
          ]
        },
        {
          "output_type": "stream",
          "name": "stderr",
          "text": [
            "2571it [00:07, 340.46it/s]\n"
          ]
        },
        {
          "output_type": "stream",
          "name": "stdout",
          "text": [
            "[INFO] train set\n",
            "torch.Size([1587881, 429])\n",
            "torch.Size([1587881])\n",
            "[Dataset] - # phone classes: 41, number of utterances for val: 858\n"
          ]
        },
        {
          "output_type": "stream",
          "name": "stderr",
          "text": [
            "858it [00:05, 151.61it/s]\n"
          ]
        },
        {
          "output_type": "stream",
          "name": "stdout",
          "text": [
            "[INFO] val set\n",
            "torch.Size([528913, 429])\n",
            "torch.Size([528913])\n"
          ]
        }
      ]
    },
    {
      "cell_type": "markdown",
      "source": [
        "# Training"
      ],
      "metadata": {
        "id": "pwWH1KIqzxEr"
      }
    },
    {
      "cell_type": "code",
      "execution_count": null,
      "metadata": {
        "id": "CdMWsBs7zzNs",
        "outputId": "cf4f01c1-e9a1-4ab5-97b3-5a4dd8b4ce2a",
        "colab": {
          "base_uri": "https://localhost:8080/"
        }
      },
      "outputs": [
        {
          "metadata": {
            "tags": null
          },
          "name": "stderr",
          "output_type": "stream",
          "text": [
            "100%|██████████| 3102/3102 [00:34<00:00, 88.79it/s]\n",
            "100%|██████████| 1034/1034 [00:05<00:00, 191.94it/s]\n"
          ]
        },
        {
          "metadata": {
            "tags": null
          },
          "name": "stdout",
          "output_type": "stream",
          "text": [
            "[001/1000] Train Acc: 0.54766 Loss: 1.48886 | Val Acc: 0.62219 loss: 1.20282\n",
            "saving model with acc 0.62219\n"
          ]
        },
        {
          "metadata": {
            "tags": null
          },
          "name": "stderr",
          "output_type": "stream",
          "text": [
            "100%|██████████| 3102/3102 [00:31<00:00, 99.58it/s]\n",
            "100%|██████████| 1034/1034 [00:05<00:00, 192.94it/s]\n"
          ]
        },
        {
          "metadata": {
            "tags": null
          },
          "name": "stdout",
          "output_type": "stream",
          "text": [
            "[002/1000] Train Acc: 0.59817 Loss: 1.29941 | Val Acc: 0.64438 loss: 1.12852\n",
            "saving model with acc 0.64438\n"
          ]
        },
        {
          "metadata": {
            "tags": null
          },
          "name": "stderr",
          "output_type": "stream",
          "text": [
            "100%|██████████| 3102/3102 [00:31<00:00, 99.62it/s]\n",
            "100%|██████████| 1034/1034 [00:05<00:00, 185.95it/s]\n"
          ]
        },
        {
          "metadata": {
            "tags": null
          },
          "name": "stdout",
          "output_type": "stream",
          "text": [
            "[003/1000] Train Acc: 0.61715 Loss: 1.23169 | Val Acc: 0.65952 loss: 1.07411\n",
            "saving model with acc 0.65952\n"
          ]
        },
        {
          "metadata": {
            "tags": null
          },
          "name": "stderr",
          "output_type": "stream",
          "text": [
            "100%|██████████| 3102/3102 [00:34<00:00, 89.71it/s]\n",
            "100%|██████████| 1034/1034 [00:05<00:00, 188.63it/s]\n"
          ]
        },
        {
          "metadata": {
            "tags": null
          },
          "name": "stdout",
          "output_type": "stream",
          "text": [
            "[004/1000] Train Acc: 0.62951 Loss: 1.18921 | Val Acc: 0.66653 loss: 1.04553\n",
            "saving model with acc 0.66653\n"
          ]
        },
        {
          "metadata": {
            "tags": null
          },
          "name": "stderr",
          "output_type": "stream",
          "text": [
            "100%|██████████| 3102/3102 [00:31<00:00, 97.90it/s] \n",
            "100%|██████████| 1034/1034 [00:05<00:00, 182.88it/s]\n"
          ]
        },
        {
          "metadata": {
            "tags": null
          },
          "name": "stdout",
          "output_type": "stream",
          "text": [
            "[005/1000] Train Acc: 0.63763 Loss: 1.15866 | Val Acc: 0.67419 loss: 1.02311\n",
            "saving model with acc 0.67419\n"
          ]
        },
        {
          "metadata": {
            "tags": null
          },
          "name": "stderr",
          "output_type": "stream",
          "text": [
            "100%|██████████| 3102/3102 [00:30<00:00, 101.42it/s]\n",
            "100%|██████████| 1034/1034 [00:05<00:00, 190.58it/s]\n"
          ]
        },
        {
          "metadata": {
            "tags": null
          },
          "name": "stdout",
          "output_type": "stream",
          "text": [
            "[006/1000] Train Acc: 0.64410 Loss: 1.13474 | Val Acc: 0.67903 loss: 1.00647\n",
            "saving model with acc 0.67903\n"
          ]
        },
        {
          "metadata": {
            "tags": null
          },
          "name": "stderr",
          "output_type": "stream",
          "text": [
            "100%|██████████| 3102/3102 [00:30<00:00, 100.48it/s]\n",
            "100%|██████████| 1034/1034 [00:05<00:00, 183.00it/s]\n"
          ]
        },
        {
          "metadata": {
            "tags": null
          },
          "name": "stdout",
          "output_type": "stream",
          "text": [
            "[007/1000] Train Acc: 0.64981 Loss: 1.11590 | Val Acc: 0.68267 loss: 0.99467\n",
            "saving model with acc 0.68267\n"
          ]
        },
        {
          "output_type": "stream",
          "name": "stderr",
          "text": [
            "100%|██████████| 3102/3102 [00:30<00:00, 100.62it/s]\n",
            "100%|██████████| 1034/1034 [00:05<00:00, 184.74it/s]\n"
          ]
        },
        {
          "output_type": "stream",
          "name": "stdout",
          "text": [
            "[008/1000] Train Acc: 0.65381 Loss: 1.10055 | Val Acc: 0.68617 loss: 0.98365\n",
            "saving model with acc 0.68617\n"
          ]
        },
        {
          "output_type": "stream",
          "name": "stderr",
          "text": [
            "100%|██████████| 3102/3102 [00:30<00:00, 101.58it/s]\n",
            "100%|██████████| 1034/1034 [00:05<00:00, 174.47it/s]\n"
          ]
        },
        {
          "output_type": "stream",
          "name": "stdout",
          "text": [
            "[009/1000] Train Acc: 0.65736 Loss: 1.08750 | Val Acc: 0.68912 loss: 0.97424\n",
            "saving model with acc 0.68912\n"
          ]
        },
        {
          "output_type": "stream",
          "name": "stderr",
          "text": [
            "100%|██████████| 3102/3102 [00:30<00:00, 102.25it/s]\n",
            "100%|██████████| 1034/1034 [00:06<00:00, 170.37it/s]\n"
          ]
        },
        {
          "output_type": "stream",
          "name": "stdout",
          "text": [
            "[010/1000] Train Acc: 0.66046 Loss: 1.07554 | Val Acc: 0.69062 loss: 0.96720\n",
            "saving model with acc 0.69062\n"
          ]
        },
        {
          "output_type": "stream",
          "name": "stderr",
          "text": [
            "100%|██████████| 3102/3102 [00:30<00:00, 101.71it/s]\n",
            "100%|██████████| 1034/1034 [00:06<00:00, 166.09it/s]\n"
          ]
        },
        {
          "output_type": "stream",
          "name": "stdout",
          "text": [
            "[011/1000] Train Acc: 0.66349 Loss: 1.06554 | Val Acc: 0.69234 loss: 0.96204\n",
            "saving model with acc 0.69234\n"
          ]
        },
        {
          "output_type": "stream",
          "name": "stderr",
          "text": [
            "100%|██████████| 3102/3102 [00:30<00:00, 102.94it/s]\n",
            "100%|██████████| 1034/1034 [00:06<00:00, 165.72it/s]\n"
          ]
        },
        {
          "output_type": "stream",
          "name": "stdout",
          "text": [
            "[012/1000] Train Acc: 0.66575 Loss: 1.05602 | Val Acc: 0.69449 loss: 0.95650\n",
            "saving model with acc 0.69449\n"
          ]
        },
        {
          "output_type": "stream",
          "name": "stderr",
          "text": [
            "100%|██████████| 3102/3102 [00:30<00:00, 102.65it/s]\n",
            "100%|██████████| 1034/1034 [00:06<00:00, 165.62it/s]\n"
          ]
        },
        {
          "output_type": "stream",
          "name": "stdout",
          "text": [
            "[013/1000] Train Acc: 0.66788 Loss: 1.04870 | Val Acc: 0.69524 loss: 0.95206\n",
            "saving model with acc 0.69524\n"
          ]
        },
        {
          "output_type": "stream",
          "name": "stderr",
          "text": [
            "100%|██████████| 3102/3102 [00:30<00:00, 102.34it/s]\n",
            "100%|██████████| 1034/1034 [00:06<00:00, 168.13it/s]\n"
          ]
        },
        {
          "output_type": "stream",
          "name": "stdout",
          "text": [
            "[014/1000] Train Acc: 0.67062 Loss: 1.04037 | Val Acc: 0.69863 loss: 0.94335\n",
            "saving model with acc 0.69863\n"
          ]
        },
        {
          "output_type": "stream",
          "name": "stderr",
          "text": [
            "100%|██████████| 3102/3102 [00:30<00:00, 102.65it/s]\n",
            "100%|██████████| 1034/1034 [00:06<00:00, 164.43it/s]\n"
          ]
        },
        {
          "output_type": "stream",
          "name": "stdout",
          "text": [
            "[015/1000] Train Acc: 0.67193 Loss: 1.03395 | Val Acc: 0.69770 loss: 0.94253\n"
          ]
        },
        {
          "output_type": "stream",
          "name": "stderr",
          "text": [
            "100%|██████████| 3102/3102 [00:31<00:00, 99.69it/s]\n",
            "100%|██████████| 1034/1034 [00:05<00:00, 175.32it/s]\n"
          ]
        },
        {
          "output_type": "stream",
          "name": "stdout",
          "text": [
            "[016/1000] Train Acc: 0.67386 Loss: 1.02736 | Val Acc: 0.69998 loss: 0.93842\n",
            "saving model with acc 0.69998\n"
          ]
        },
        {
          "output_type": "stream",
          "name": "stderr",
          "text": [
            "100%|██████████| 3102/3102 [00:30<00:00, 100.60it/s]\n",
            "100%|██████████| 1034/1034 [00:05<00:00, 182.20it/s]\n"
          ]
        },
        {
          "output_type": "stream",
          "name": "stdout",
          "text": [
            "[017/1000] Train Acc: 0.67544 Loss: 1.02158 | Val Acc: 0.70056 loss: 0.93401\n",
            "saving model with acc 0.70056\n"
          ]
        },
        {
          "output_type": "stream",
          "name": "stderr",
          "text": [
            "100%|██████████| 3102/3102 [00:30<00:00, 101.02it/s]\n",
            "100%|██████████| 1034/1034 [00:05<00:00, 187.36it/s]\n"
          ]
        },
        {
          "output_type": "stream",
          "name": "stdout",
          "text": [
            "[018/1000] Train Acc: 0.67644 Loss: 1.01693 | Val Acc: 0.70195 loss: 0.93191\n",
            "saving model with acc 0.70195\n"
          ]
        },
        {
          "output_type": "stream",
          "name": "stderr",
          "text": [
            "100%|██████████| 3102/3102 [00:30<00:00, 100.82it/s]\n",
            "100%|██████████| 1034/1034 [00:05<00:00, 188.80it/s]\n"
          ]
        },
        {
          "output_type": "stream",
          "name": "stdout",
          "text": [
            "[019/1000] Train Acc: 0.67812 Loss: 1.01127 | Val Acc: 0.70185 loss: 0.93068\n"
          ]
        },
        {
          "output_type": "stream",
          "name": "stderr",
          "text": [
            "100%|██████████| 3102/3102 [00:30<00:00, 100.87it/s]\n",
            "100%|██████████| 1034/1034 [00:05<00:00, 189.57it/s]\n"
          ]
        },
        {
          "output_type": "stream",
          "name": "stdout",
          "text": [
            "[020/1000] Train Acc: 0.67947 Loss: 1.00729 | Val Acc: 0.70358 loss: 0.92691\n",
            "saving model with acc 0.70358\n"
          ]
        },
        {
          "output_type": "stream",
          "name": "stderr",
          "text": [
            "100%|██████████| 3102/3102 [00:31<00:00, 99.45it/s]\n",
            "100%|██████████| 1034/1034 [00:05<00:00, 186.81it/s]\n"
          ]
        },
        {
          "output_type": "stream",
          "name": "stdout",
          "text": [
            "[021/1000] Train Acc: 0.68005 Loss: 1.00226 | Val Acc: 0.70265 loss: 0.92816\n"
          ]
        },
        {
          "output_type": "stream",
          "name": "stderr",
          "text": [
            "100%|██████████| 3102/3102 [00:30<00:00, 100.53it/s]\n",
            "100%|██████████| 1034/1034 [00:05<00:00, 188.26it/s]\n"
          ]
        },
        {
          "output_type": "stream",
          "name": "stdout",
          "text": [
            "[022/1000] Train Acc: 0.68194 Loss: 0.99834 | Val Acc: 0.70475 loss: 0.92220\n",
            "saving model with acc 0.70475\n"
          ]
        },
        {
          "output_type": "stream",
          "name": "stderr",
          "text": [
            "100%|██████████| 3102/3102 [00:30<00:00, 101.41it/s]\n",
            "100%|██████████| 1034/1034 [00:05<00:00, 191.07it/s]\n"
          ]
        },
        {
          "output_type": "stream",
          "name": "stdout",
          "text": [
            "[023/1000] Train Acc: 0.68256 Loss: 0.99472 | Val Acc: 0.70436 loss: 0.92205\n"
          ]
        },
        {
          "output_type": "stream",
          "name": "stderr",
          "text": [
            "100%|██████████| 3102/3102 [00:30<00:00, 101.05it/s]\n",
            "100%|██████████| 1034/1034 [00:05<00:00, 183.49it/s]\n"
          ]
        },
        {
          "output_type": "stream",
          "name": "stdout",
          "text": [
            "[024/1000] Train Acc: 0.68390 Loss: 0.99069 | Val Acc: 0.70490 loss: 0.91879\n",
            "saving model with acc 0.70490\n"
          ]
        },
        {
          "output_type": "stream",
          "name": "stderr",
          "text": [
            "100%|██████████| 3102/3102 [00:30<00:00, 101.37it/s]\n",
            "100%|██████████| 1034/1034 [00:05<00:00, 189.04it/s]\n"
          ]
        },
        {
          "output_type": "stream",
          "name": "stdout",
          "text": [
            "[025/1000] Train Acc: 0.68434 Loss: 0.98775 | Val Acc: 0.70576 loss: 0.91789\n",
            "saving model with acc 0.70576\n"
          ]
        },
        {
          "output_type": "stream",
          "name": "stderr",
          "text": [
            "100%|██████████| 3102/3102 [00:31<00:00, 99.35it/s] \n",
            "100%|██████████| 1034/1034 [00:05<00:00, 178.87it/s]\n"
          ]
        },
        {
          "output_type": "stream",
          "name": "stdout",
          "text": [
            "[026/1000] Train Acc: 0.68601 Loss: 0.98392 | Val Acc: 0.70631 loss: 0.91672\n",
            "saving model with acc 0.70631\n"
          ]
        },
        {
          "output_type": "stream",
          "name": "stderr",
          "text": [
            "100%|██████████| 3102/3102 [00:30<00:00, 101.50it/s]\n",
            "100%|██████████| 1034/1034 [00:05<00:00, 177.12it/s]\n"
          ]
        },
        {
          "output_type": "stream",
          "name": "stdout",
          "text": [
            "[027/1000] Train Acc: 0.68687 Loss: 0.98131 | Val Acc: 0.70629 loss: 0.91596\n"
          ]
        },
        {
          "output_type": "stream",
          "name": "stderr",
          "text": [
            "100%|██████████| 3102/3102 [00:30<00:00, 101.60it/s]\n",
            "100%|██████████| 1034/1034 [00:06<00:00, 168.55it/s]\n"
          ]
        },
        {
          "output_type": "stream",
          "name": "stdout",
          "text": [
            "[028/1000] Train Acc: 0.68703 Loss: 0.97825 | Val Acc: 0.70798 loss: 0.91189\n",
            "saving model with acc 0.70798\n"
          ]
        },
        {
          "output_type": "stream",
          "name": "stderr",
          "text": [
            "100%|██████████| 3102/3102 [00:30<00:00, 102.50it/s]\n",
            "100%|██████████| 1034/1034 [00:06<00:00, 170.44it/s]\n"
          ]
        },
        {
          "output_type": "stream",
          "name": "stdout",
          "text": [
            "[029/1000] Train Acc: 0.68840 Loss: 0.97466 | Val Acc: 0.70801 loss: 0.91111\n",
            "saving model with acc 0.70801\n"
          ]
        },
        {
          "output_type": "stream",
          "name": "stderr",
          "text": [
            "100%|██████████| 3102/3102 [00:30<00:00, 102.77it/s]\n",
            "100%|██████████| 1034/1034 [00:06<00:00, 162.91it/s]\n"
          ]
        },
        {
          "output_type": "stream",
          "name": "stdout",
          "text": [
            "[030/1000] Train Acc: 0.68868 Loss: 0.97209 | Val Acc: 0.70792 loss: 0.90946\n"
          ]
        },
        {
          "output_type": "stream",
          "name": "stderr",
          "text": [
            "100%|██████████| 3102/3102 [00:30<00:00, 101.53it/s]\n",
            "100%|██████████| 1034/1034 [00:06<00:00, 165.26it/s]\n"
          ]
        },
        {
          "output_type": "stream",
          "name": "stdout",
          "text": [
            "[031/1000] Train Acc: 0.68970 Loss: 0.96963 | Val Acc: 0.70866 loss: 0.90794\n",
            "saving model with acc 0.70866\n"
          ]
        },
        {
          "output_type": "stream",
          "name": "stderr",
          "text": [
            "100%|██████████| 3102/3102 [00:30<00:00, 102.23it/s]\n",
            "100%|██████████| 1034/1034 [00:06<00:00, 160.90it/s]\n"
          ]
        },
        {
          "output_type": "stream",
          "name": "stdout",
          "text": [
            "[032/1000] Train Acc: 0.69010 Loss: 0.96745 | Val Acc: 0.70903 loss: 0.90641\n",
            "saving model with acc 0.70903\n"
          ]
        },
        {
          "output_type": "stream",
          "name": "stderr",
          "text": [
            "100%|██████████| 3102/3102 [00:30<00:00, 100.80it/s]\n",
            "100%|██████████| 1034/1034 [00:05<00:00, 180.17it/s]\n"
          ]
        },
        {
          "output_type": "stream",
          "name": "stdout",
          "text": [
            "[033/1000] Train Acc: 0.69174 Loss: 0.96355 | Val Acc: 0.70987 loss: 0.90555\n",
            "saving model with acc 0.70987\n"
          ]
        },
        {
          "output_type": "stream",
          "name": "stderr",
          "text": [
            "100%|██████████| 3102/3102 [00:30<00:00, 100.63it/s]\n",
            "100%|██████████| 1034/1034 [00:05<00:00, 186.77it/s]\n"
          ]
        },
        {
          "output_type": "stream",
          "name": "stdout",
          "text": [
            "[034/1000] Train Acc: 0.69146 Loss: 0.96183 | Val Acc: 0.70975 loss: 0.90513\n"
          ]
        },
        {
          "output_type": "stream",
          "name": "stderr",
          "text": [
            "100%|██████████| 3102/3102 [00:30<00:00, 101.12it/s]\n",
            "100%|██████████| 1034/1034 [00:05<00:00, 186.39it/s]\n"
          ]
        },
        {
          "output_type": "stream",
          "name": "stdout",
          "text": [
            "[035/1000] Train Acc: 0.69229 Loss: 0.95907 | Val Acc: 0.71031 loss: 0.90387\n",
            "saving model with acc 0.71031\n"
          ]
        },
        {
          "output_type": "stream",
          "name": "stderr",
          "text": [
            "100%|██████████| 3102/3102 [00:30<00:00, 101.54it/s]\n",
            "100%|██████████| 1034/1034 [00:05<00:00, 173.51it/s]\n"
          ]
        },
        {
          "output_type": "stream",
          "name": "stdout",
          "text": [
            "[036/1000] Train Acc: 0.69309 Loss: 0.95737 | Val Acc: 0.71046 loss: 0.90315\n",
            "saving model with acc 0.71046\n"
          ]
        },
        {
          "output_type": "stream",
          "name": "stderr",
          "text": [
            "100%|██████████| 3102/3102 [00:30<00:00, 100.32it/s]\n",
            "100%|██████████| 1034/1034 [00:05<00:00, 188.21it/s]\n"
          ]
        },
        {
          "output_type": "stream",
          "name": "stdout",
          "text": [
            "[037/1000] Train Acc: 0.69341 Loss: 0.95584 | Val Acc: 0.71119 loss: 0.90041\n",
            "saving model with acc 0.71119\n"
          ]
        },
        {
          "output_type": "stream",
          "name": "stderr",
          "text": [
            "100%|██████████| 3102/3102 [00:30<00:00, 100.78it/s]\n",
            "100%|██████████| 1034/1034 [00:05<00:00, 185.86it/s]\n"
          ]
        },
        {
          "output_type": "stream",
          "name": "stdout",
          "text": [
            "[038/1000] Train Acc: 0.69432 Loss: 0.95316 | Val Acc: 0.71157 loss: 0.90200\n",
            "saving model with acc 0.71157\n"
          ]
        },
        {
          "output_type": "stream",
          "name": "stderr",
          "text": [
            "100%|██████████| 3102/3102 [00:30<00:00, 100.78it/s]\n",
            "100%|██████████| 1034/1034 [00:05<00:00, 190.53it/s]\n"
          ]
        },
        {
          "output_type": "stream",
          "name": "stdout",
          "text": [
            "[039/1000] Train Acc: 0.69466 Loss: 0.95046 | Val Acc: 0.71094 loss: 0.90015\n"
          ]
        },
        {
          "output_type": "stream",
          "name": "stderr",
          "text": [
            "100%|██████████| 3102/3102 [00:30<00:00, 100.31it/s]\n",
            "100%|██████████| 1034/1034 [00:05<00:00, 190.77it/s]\n"
          ]
        },
        {
          "output_type": "stream",
          "name": "stdout",
          "text": [
            "[040/1000] Train Acc: 0.69524 Loss: 0.94937 | Val Acc: 0.71085 loss: 0.90007\n"
          ]
        },
        {
          "output_type": "stream",
          "name": "stderr",
          "text": [
            "100%|██████████| 3102/3102 [00:30<00:00, 100.83it/s]\n",
            "100%|██████████| 1034/1034 [00:05<00:00, 190.06it/s]\n"
          ]
        },
        {
          "output_type": "stream",
          "name": "stdout",
          "text": [
            "[041/1000] Train Acc: 0.69578 Loss: 0.94713 | Val Acc: 0.71187 loss: 0.89961\n",
            "saving model with acc 0.71187\n"
          ]
        },
        {
          "output_type": "stream",
          "name": "stderr",
          "text": [
            "100%|██████████| 3102/3102 [00:31<00:00, 99.00it/s]\n",
            "100%|██████████| 1034/1034 [00:05<00:00, 178.44it/s]\n"
          ]
        },
        {
          "output_type": "stream",
          "name": "stdout",
          "text": [
            "[042/1000] Train Acc: 0.69642 Loss: 0.94498 | Val Acc: 0.71216 loss: 0.89776\n",
            "saving model with acc 0.71216\n"
          ]
        },
        {
          "output_type": "stream",
          "name": "stderr",
          "text": [
            "100%|██████████| 3102/3102 [00:30<00:00, 102.12it/s]\n",
            "100%|██████████| 1034/1034 [00:06<00:00, 168.22it/s]\n"
          ]
        },
        {
          "output_type": "stream",
          "name": "stdout",
          "text": [
            "[043/1000] Train Acc: 0.69679 Loss: 0.94350 | Val Acc: 0.71225 loss: 0.89760\n",
            "saving model with acc 0.71225\n"
          ]
        },
        {
          "output_type": "stream",
          "name": "stderr",
          "text": [
            "100%|██████████| 3102/3102 [00:30<00:00, 102.53it/s]\n",
            "100%|██████████| 1034/1034 [00:06<00:00, 171.46it/s]\n"
          ]
        },
        {
          "output_type": "stream",
          "name": "stdout",
          "text": [
            "[044/1000] Train Acc: 0.69718 Loss: 0.94126 | Val Acc: 0.71224 loss: 0.89696\n"
          ]
        },
        {
          "output_type": "stream",
          "name": "stderr",
          "text": [
            "100%|██████████| 3102/3102 [00:29<00:00, 103.51it/s]\n",
            "100%|██████████| 1034/1034 [00:06<00:00, 170.85it/s]\n"
          ]
        },
        {
          "output_type": "stream",
          "name": "stdout",
          "text": [
            "[045/1000] Train Acc: 0.69786 Loss: 0.93911 | Val Acc: 0.71232 loss: 0.89764\n",
            "saving model with acc 0.71232\n"
          ]
        },
        {
          "output_type": "stream",
          "name": "stderr",
          "text": [
            "100%|██████████| 3102/3102 [00:29<00:00, 103.79it/s]\n",
            "100%|██████████| 1034/1034 [00:05<00:00, 176.93it/s]\n"
          ]
        },
        {
          "output_type": "stream",
          "name": "stdout",
          "text": [
            "[046/1000] Train Acc: 0.69794 Loss: 0.93839 | Val Acc: 0.71303 loss: 0.89467\n",
            "saving model with acc 0.71303\n"
          ]
        },
        {
          "output_type": "stream",
          "name": "stderr",
          "text": [
            "100%|██████████| 3102/3102 [00:30<00:00, 102.27it/s]\n",
            "100%|██████████| 1034/1034 [00:06<00:00, 170.90it/s]\n"
          ]
        },
        {
          "output_type": "stream",
          "name": "stdout",
          "text": [
            "[047/1000] Train Acc: 0.69834 Loss: 0.93700 | Val Acc: 0.71327 loss: 0.89518\n",
            "saving model with acc 0.71327\n"
          ]
        },
        {
          "output_type": "stream",
          "name": "stderr",
          "text": [
            "100%|██████████| 3102/3102 [00:29<00:00, 103.82it/s]\n",
            "100%|██████████| 1034/1034 [00:06<00:00, 171.02it/s]\n"
          ]
        },
        {
          "output_type": "stream",
          "name": "stdout",
          "text": [
            "[048/1000] Train Acc: 0.69843 Loss: 0.93667 | Val Acc: 0.71309 loss: 0.89471\n"
          ]
        },
        {
          "output_type": "stream",
          "name": "stderr",
          "text": [
            "100%|██████████| 3102/3102 [00:29<00:00, 104.39it/s]\n",
            "100%|██████████| 1034/1034 [00:06<00:00, 167.03it/s]\n"
          ]
        },
        {
          "output_type": "stream",
          "name": "stdout",
          "text": [
            "[049/1000] Train Acc: 0.69964 Loss: 0.93417 | Val Acc: 0.71268 loss: 0.89516\n"
          ]
        },
        {
          "output_type": "stream",
          "name": "stderr",
          "text": [
            "100%|██████████| 3102/3102 [00:29<00:00, 103.84it/s]\n",
            "100%|██████████| 1034/1034 [00:06<00:00, 169.13it/s]\n"
          ]
        },
        {
          "output_type": "stream",
          "name": "stdout",
          "text": [
            "[050/1000] Train Acc: 0.69965 Loss: 0.93228 | Val Acc: 0.71331 loss: 0.89408\n",
            "saving model with acc 0.71331\n"
          ]
        },
        {
          "output_type": "stream",
          "name": "stderr",
          "text": [
            "100%|██████████| 3102/3102 [00:30<00:00, 103.36it/s]\n",
            "100%|██████████| 1034/1034 [00:06<00:00, 168.75it/s]\n"
          ]
        },
        {
          "output_type": "stream",
          "name": "stdout",
          "text": [
            "[051/1000] Train Acc: 0.70036 Loss: 0.93123 | Val Acc: 0.71322 loss: 0.89532\n"
          ]
        },
        {
          "output_type": "stream",
          "name": "stderr",
          "text": [
            "100%|██████████| 3102/3102 [00:29<00:00, 103.59it/s]\n",
            "100%|██████████| 1034/1034 [00:06<00:00, 150.43it/s]\n"
          ]
        },
        {
          "output_type": "stream",
          "name": "stdout",
          "text": [
            "[052/1000] Train Acc: 0.70018 Loss: 0.93026 | Val Acc: 0.71370 loss: 0.89406\n",
            "saving model with acc 0.71370\n"
          ]
        },
        {
          "output_type": "stream",
          "name": "stderr",
          "text": [
            "100%|██████████| 3102/3102 [00:29<00:00, 103.51it/s]\n",
            "100%|██████████| 1034/1034 [00:06<00:00, 167.45it/s]\n"
          ]
        },
        {
          "output_type": "stream",
          "name": "stdout",
          "text": [
            "[053/1000] Train Acc: 0.70106 Loss: 0.92780 | Val Acc: 0.71386 loss: 0.89309\n",
            "saving model with acc 0.71386\n"
          ]
        },
        {
          "output_type": "stream",
          "name": "stderr",
          "text": [
            "100%|██████████| 3102/3102 [00:29<00:00, 103.62it/s]\n",
            "100%|██████████| 1034/1034 [00:06<00:00, 167.44it/s]\n"
          ]
        },
        {
          "output_type": "stream",
          "name": "stdout",
          "text": [
            "[054/1000] Train Acc: 0.70089 Loss: 0.92765 | Val Acc: 0.71463 loss: 0.89033\n",
            "saving model with acc 0.71463\n"
          ]
        },
        {
          "output_type": "stream",
          "name": "stderr",
          "text": [
            "100%|██████████| 3102/3102 [00:30<00:00, 103.37it/s]\n",
            "100%|██████████| 1034/1034 [00:06<00:00, 165.67it/s]\n"
          ]
        },
        {
          "output_type": "stream",
          "name": "stdout",
          "text": [
            "[055/1000] Train Acc: 0.70136 Loss: 0.92561 | Val Acc: 0.71457 loss: 0.88974\n"
          ]
        },
        {
          "output_type": "stream",
          "name": "stderr",
          "text": [
            "100%|██████████| 3102/3102 [00:30<00:00, 103.35it/s]\n",
            "100%|██████████| 1034/1034 [00:05<00:00, 175.49it/s]\n"
          ]
        },
        {
          "output_type": "stream",
          "name": "stdout",
          "text": [
            "[056/1000] Train Acc: 0.70168 Loss: 0.92480 | Val Acc: 0.71538 loss: 0.88886\n",
            "saving model with acc 0.71538\n"
          ]
        },
        {
          "output_type": "stream",
          "name": "stderr",
          "text": [
            "100%|██████████| 3102/3102 [00:30<00:00, 102.42it/s]\n",
            "100%|██████████| 1034/1034 [00:05<00:00, 183.08it/s]\n"
          ]
        },
        {
          "output_type": "stream",
          "name": "stdout",
          "text": [
            "[057/1000] Train Acc: 0.70225 Loss: 0.92398 | Val Acc: 0.71481 loss: 0.89181\n"
          ]
        },
        {
          "output_type": "stream",
          "name": "stderr",
          "text": [
            "100%|██████████| 3102/3102 [00:30<00:00, 100.39it/s]\n",
            "100%|██████████| 1034/1034 [00:05<00:00, 177.75it/s]\n"
          ]
        },
        {
          "output_type": "stream",
          "name": "stdout",
          "text": [
            "[058/1000] Train Acc: 0.70255 Loss: 0.92222 | Val Acc: 0.71482 loss: 0.88949\n"
          ]
        },
        {
          "output_type": "stream",
          "name": "stderr",
          "text": [
            "100%|██████████| 3102/3102 [00:30<00:00, 102.17it/s]\n",
            "100%|██████████| 1034/1034 [00:05<00:00, 183.55it/s]\n"
          ]
        },
        {
          "output_type": "stream",
          "name": "stdout",
          "text": [
            "[059/1000] Train Acc: 0.70287 Loss: 0.92098 | Val Acc: 0.71538 loss: 0.88908\n",
            "saving model with acc 0.71538\n"
          ]
        },
        {
          "output_type": "stream",
          "name": "stderr",
          "text": [
            "100%|██████████| 3102/3102 [00:30<00:00, 102.10it/s]\n",
            "100%|██████████| 1034/1034 [00:05<00:00, 182.08it/s]\n"
          ]
        },
        {
          "output_type": "stream",
          "name": "stdout",
          "text": [
            "[060/1000] Train Acc: 0.70351 Loss: 0.91882 | Val Acc: 0.71562 loss: 0.88930\n",
            "saving model with acc 0.71562\n"
          ]
        },
        {
          "output_type": "stream",
          "name": "stderr",
          "text": [
            "100%|██████████| 3102/3102 [00:30<00:00, 100.31it/s]\n",
            "100%|██████████| 1034/1034 [00:05<00:00, 186.15it/s]\n"
          ]
        },
        {
          "output_type": "stream",
          "name": "stdout",
          "text": [
            "[061/1000] Train Acc: 0.70339 Loss: 0.91854 | Val Acc: 0.71497 loss: 0.89014\n"
          ]
        },
        {
          "output_type": "stream",
          "name": "stderr",
          "text": [
            "100%|██████████| 3102/3102 [00:30<00:00, 100.89it/s]\n",
            "100%|██████████| 1034/1034 [00:05<00:00, 183.65it/s]\n"
          ]
        },
        {
          "output_type": "stream",
          "name": "stdout",
          "text": [
            "[062/1000] Train Acc: 0.70398 Loss: 0.91689 | Val Acc: 0.71508 loss: 0.88894\n"
          ]
        },
        {
          "output_type": "stream",
          "name": "stderr",
          "text": [
            "100%|██████████| 3102/3102 [00:31<00:00, 99.65it/s] \n",
            "100%|██████████| 1034/1034 [00:05<00:00, 186.77it/s]\n"
          ]
        },
        {
          "output_type": "stream",
          "name": "stdout",
          "text": [
            "[063/1000] Train Acc: 0.70424 Loss: 0.91656 | Val Acc: 0.71608 loss: 0.88730\n",
            "saving model with acc 0.71608\n"
          ]
        },
        {
          "output_type": "stream",
          "name": "stderr",
          "text": [
            "100%|██████████| 3102/3102 [00:30<00:00, 100.75it/s]\n",
            "100%|██████████| 1034/1034 [00:05<00:00, 187.25it/s]\n"
          ]
        },
        {
          "output_type": "stream",
          "name": "stdout",
          "text": [
            "[064/1000] Train Acc: 0.70431 Loss: 0.91587 | Val Acc: 0.71545 loss: 0.88751\n"
          ]
        },
        {
          "output_type": "stream",
          "name": "stderr",
          "text": [
            "100%|██████████| 3102/3102 [00:30<00:00, 100.16it/s]\n",
            "100%|██████████| 1034/1034 [00:05<00:00, 192.47it/s]\n"
          ]
        },
        {
          "output_type": "stream",
          "name": "stdout",
          "text": [
            "[065/1000] Train Acc: 0.70492 Loss: 0.91395 | Val Acc: 0.71567 loss: 0.88756\n"
          ]
        },
        {
          "output_type": "stream",
          "name": "stderr",
          "text": [
            "100%|██████████| 3102/3102 [00:31<00:00, 99.98it/s] \n",
            " 82%|████████▏ | 850/1034 [00:04<00:01, 149.93it/s]"
          ]
        }
      ],
      "source": [
        "# create model, define a loss function, and optimizer\n",
        "model = Classifier(input_dim=input_dim, hidden_layers=hidden_layers, hidden_dim=hidden_dim).to(device)\n",
        "criterion = nn.CrossEntropyLoss()\n",
        "optimizer = torch.optim.Adam(model.parameters(), lr=learning_rate)\n",
        "\n",
        "best_acc = 0.0\n",
        "for epoch in range(num_epoch):\n",
        "    train_acc = 0.0\n",
        "    train_loss = 0.0\n",
        "    val_acc = 0.0\n",
        "    val_loss = 0.0\n",
        "\n",
        "    # training\n",
        "    model.train() # set the model to training mode\n",
        "    for i, batch in enumerate(tqdm(train_loader)):\n",
        "        features, labels = batch\n",
        "        features = features.to(device)\n",
        "        labels = labels.to(device)\n",
        "\n",
        "        optimizer.zero_grad()\n",
        "        outputs = model(features)\n",
        "\n",
        "        loss = criterion(outputs, labels)\n",
        "        loss.backward()\n",
        "        optimizer.step()\n",
        "\n",
        "        _, train_pred = torch.max(outputs, 1) # get the index of the class with the highest probability\n",
        "        train_acc += (train_pred.detach() == labels.detach()).sum().item()\n",
        "        train_loss += loss.item()\n",
        "\n",
        "    # validation\n",
        "    model.eval() # set the model to evaluation mode\n",
        "    with torch.no_grad():\n",
        "        for i, batch in enumerate(tqdm(val_loader)):\n",
        "            features, labels = batch\n",
        "            features = features.to(device)\n",
        "            labels = labels.to(device)\n",
        "            outputs = model(features)\n",
        "\n",
        "            loss = criterion(outputs, labels)\n",
        "\n",
        "            _, val_pred = torch.max(outputs, 1)\n",
        "            val_acc += (val_pred.cpu() == labels.cpu()).sum().item() # get the index of the class with the highest probability\n",
        "            val_loss += loss.item()\n",
        "\n",
        "    print(f'[{epoch+1:03d}/{num_epoch:03d}] Train Acc: {train_acc/len(train_set):3.5f} Loss: {train_loss/len(train_loader):3.5f} | Val Acc: {val_acc/len(val_set):3.5f} loss: {val_loss/len(val_loader):3.5f}')\n",
        "\n",
        "    # if the model improves, save a checkpoint at this epoch\n",
        "    if val_acc > best_acc:\n",
        "        best_acc = val_acc\n",
        "        torch.save(model.state_dict(), model_path)\n",
        "        print(f'saving model with acc {best_acc/len(val_set):.5f}')\n"
      ]
    },
    {
      "cell_type": "code",
      "execution_count": null,
      "metadata": {
        "id": "ab33MxosWLmG"
      },
      "outputs": [],
      "source": [
        "del train_set, val_set\n",
        "del train_loader, val_loader\n",
        "gc.collect()"
      ]
    },
    {
      "cell_type": "markdown",
      "metadata": {
        "id": "1Hi7jTn3PX-m"
      },
      "source": [
        "# Testing\n",
        "Create a testing dataset, and load model from the saved checkpoint."
      ]
    },
    {
      "cell_type": "code",
      "execution_count": null,
      "metadata": {
        "id": "VOG1Ou0PGrhc"
      },
      "outputs": [],
      "source": [
        "# load data\n",
        "test_X = preprocess_data(split='test', feat_dir='./libriphone/feat', phone_path='./libriphone', concat_nframes=concat_nframes)\n",
        "test_set = LibriDataset(test_X, None)\n",
        "test_loader = DataLoader(test_set, batch_size=batch_size, shuffle=False)"
      ]
    },
    {
      "cell_type": "code",
      "execution_count": null,
      "metadata": {
        "id": "ay0Fu8Ovkdad"
      },
      "outputs": [],
      "source": [
        "# load model\n",
        "model = Classifier(input_dim=input_dim, hidden_layers=hidden_layers, hidden_dim=hidden_dim).to(device)\n",
        "model.load_state_dict(torch.load(model_path))"
      ]
    },
    {
      "cell_type": "markdown",
      "metadata": {
        "id": "zp-DV1p4r7Nz"
      },
      "source": [
        "Make prediction."
      ]
    },
    {
      "cell_type": "code",
      "execution_count": null,
      "metadata": {
        "id": "84HU5GGjPqR0"
      },
      "outputs": [],
      "source": [
        "pred = np.array([], dtype=np.int32)\n",
        "\n",
        "model.eval()\n",
        "with torch.no_grad():\n",
        "    for i, batch in enumerate(tqdm(test_loader)):\n",
        "        features = batch\n",
        "        features = features.to(device)\n",
        "\n",
        "        outputs = model(features)\n",
        "\n",
        "        _, test_pred = torch.max(outputs, 1) # get the index of the class with the highest probability\n",
        "        pred = np.concatenate((pred, test_pred.cpu().numpy()), axis=0)\n"
      ]
    },
    {
      "cell_type": "markdown",
      "metadata": {
        "id": "wyZqy40Prz0v"
      },
      "source": [
        "Write prediction to a CSV file.\n",
        "\n",
        "After finish running this block, download the file `prediction.csv` from the files section on the left-hand side and submit it to Kaggle."
      ]
    },
    {
      "cell_type": "code",
      "execution_count": null,
      "metadata": {
        "id": "GuljYSPHcZir"
      },
      "outputs": [],
      "source": [
        "with open('prediction.csv', 'w') as f:\n",
        "    f.write('Id,Class\\n')\n",
        "    for i, y in enumerate(pred):\n",
        "        f.write('{},{}\\n'.format(i, y))"
      ]
    }
  ],
  "metadata": {
    "accelerator": "GPU",
    "colab": {
      "provenance": []
    },
    "kernelspec": {
      "display_name": "Python 3",
      "name": "python3"
    }
  },
  "nbformat": 4,
  "nbformat_minor": 0
}